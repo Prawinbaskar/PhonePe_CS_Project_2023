{
 "cells": [
  {
   "cell_type": "markdown",
   "id": "588c30ae",
   "metadata": {},
   "source": [
    "# Cloning data from Git Hub "
   ]
  },
  {
   "cell_type": "code",
   "execution_count": 41,
   "id": "6e1e802f",
   "metadata": {},
   "outputs": [
    {
     "name": "stdout",
     "output_type": "stream",
     "text": [
      "D:\\Praveen_PhonePe_Project_2023\n"
     ]
    }
   ],
   "source": [
    "cd \"D:\\Praveen_PhonePe_Project_2023\""
   ]
  },
  {
   "cell_type": "code",
   "execution_count": 42,
   "id": "78b243aa",
   "metadata": {},
   "outputs": [
    {
     "name": "stderr",
     "output_type": "stream",
     "text": [
      "fatal: destination path 'pulse' already exists and is not an empty directory.\n"
     ]
    }
   ],
   "source": [
    "!git clone https://github.com/PhonePe/pulse.git"
   ]
  },
  {
   "cell_type": "markdown",
   "id": "908548b3",
   "metadata": {},
   "source": [
    "# Importing Libraries "
   ]
  },
  {
   "cell_type": "code",
   "execution_count": 43,
   "id": "833153ea",
   "metadata": {},
   "outputs": [
    {
     "name": "stdout",
     "output_type": "stream",
     "text": [
      "Defaulting to user installation because normal site-packages is not writeable\n",
      "Requirement already satisfied: mysql-connector in c:\\users\\prawi\\appdata\\roaming\\python\\python311\\site-packages (2.2.9)\n"
     ]
    }
   ],
   "source": [
    "!pip install mysql-connector"
   ]
  },
  {
   "cell_type": "code",
   "execution_count": 44,
   "id": "5a061d92",
   "metadata": {},
   "outputs": [],
   "source": [
    "import pandas as ps"
   ]
  },
  {
   "cell_type": "code",
   "execution_count": 45,
   "id": "4954904c",
   "metadata": {},
   "outputs": [
    {
     "name": "stdout",
     "output_type": "stream",
     "text": [
      "Defaulting to user installation because normal site-packages is not writeable\n",
      "Requirement already satisfied: mysql-connector-python in c:\\users\\prawi\\appdata\\roaming\\python\\python311\\site-packages (8.2.0)\n",
      "Requirement already satisfied: protobuf<=4.21.12,>=4.21.1 in c:\\users\\prawi\\appdata\\roaming\\python\\python311\\site-packages (from mysql-connector-python) (4.21.12)\n"
     ]
    }
   ],
   "source": [
    "!pip3 install mysql-connector-python"
   ]
  },
  {
   "cell_type": "code",
   "execution_count": 46,
   "id": "c37c7673",
   "metadata": {},
   "outputs": [],
   "source": [
    "import mysql.connector"
   ]
  },
  {
   "cell_type": "code",
   "execution_count": 47,
   "id": "8398dd9f",
   "metadata": {},
   "outputs": [
    {
     "name": "stdout",
     "output_type": "stream",
     "text": [
      "Defaulting to user installation because normal site-packages is not writeable\n",
      "Requirement already satisfied: streamlit in c:\\users\\prawi\\appdata\\roaming\\python\\python311\\site-packages (1.28.0)\n",
      "Requirement already satisfied: altair<6,>=4.0 in c:\\users\\prawi\\appdata\\roaming\\python\\python311\\site-packages (from streamlit) (5.1.2)\n",
      "Requirement already satisfied: blinker<2,>=1.0.0 in c:\\users\\prawi\\appdata\\roaming\\python\\python311\\site-packages (from streamlit) (1.6.3)\n",
      "Requirement already satisfied: cachetools<6,>=4.0 in c:\\users\\prawi\\appdata\\roaming\\python\\python311\\site-packages (from streamlit) (5.3.2)\n",
      "Requirement already satisfied: click<9,>=7.0 in c:\\programdata\\anaconda3\\lib\\site-packages (from streamlit) (8.0.4)\n",
      "Requirement already satisfied: importlib-metadata<7,>=1.4 in c:\\programdata\\anaconda3\\lib\\site-packages (from streamlit) (6.0.0)\n",
      "Requirement already satisfied: numpy<2,>=1.19.3 in c:\\programdata\\anaconda3\\lib\\site-packages (from streamlit) (1.24.3)\n",
      "Requirement already satisfied: packaging<24,>=16.8 in c:\\programdata\\anaconda3\\lib\\site-packages (from streamlit) (23.0)\n",
      "Requirement already satisfied: pandas<3,>=1.3.0 in c:\\programdata\\anaconda3\\lib\\site-packages (from streamlit) (1.5.3)\n",
      "Requirement already satisfied: pillow<11,>=7.1.0 in c:\\programdata\\anaconda3\\lib\\site-packages (from streamlit) (9.4.0)\n",
      "Requirement already satisfied: protobuf<5,>=3.20 in c:\\users\\prawi\\appdata\\roaming\\python\\python311\\site-packages (from streamlit) (4.21.12)\n",
      "Requirement already satisfied: pyarrow>=6.0 in c:\\programdata\\anaconda3\\lib\\site-packages (from streamlit) (11.0.0)\n",
      "Requirement already satisfied: python-dateutil<3,>=2.7.3 in c:\\programdata\\anaconda3\\lib\\site-packages (from streamlit) (2.8.2)\n",
      "Requirement already satisfied: requests<3,>=2.27 in c:\\programdata\\anaconda3\\lib\\site-packages (from streamlit) (2.31.0)\n",
      "Requirement already satisfied: rich<14,>=10.14.0 in c:\\users\\prawi\\appdata\\roaming\\python\\python311\\site-packages (from streamlit) (13.6.0)\n",
      "Requirement already satisfied: tenacity<9,>=8.1.0 in c:\\programdata\\anaconda3\\lib\\site-packages (from streamlit) (8.2.2)\n",
      "Requirement already satisfied: toml<2,>=0.10.1 in c:\\programdata\\anaconda3\\lib\\site-packages (from streamlit) (0.10.2)\n",
      "Requirement already satisfied: typing-extensions<5,>=4.3.0 in c:\\programdata\\anaconda3\\lib\\site-packages (from streamlit) (4.7.1)\n",
      "Requirement already satisfied: tzlocal<6,>=1.1 in c:\\users\\prawi\\appdata\\roaming\\python\\python311\\site-packages (from streamlit) (5.2)\n",
      "Requirement already satisfied: validators<1,>=0.2 in c:\\users\\prawi\\appdata\\roaming\\python\\python311\\site-packages (from streamlit) (0.22.0)\n",
      "Requirement already satisfied: gitpython!=3.1.19,<4,>=3.0.7 in c:\\users\\prawi\\appdata\\roaming\\python\\python311\\site-packages (from streamlit) (3.1.40)\n",
      "Requirement already satisfied: pydeck<1,>=0.8.0b4 in c:\\users\\prawi\\appdata\\roaming\\python\\python311\\site-packages (from streamlit) (0.8.1b0)\n",
      "Requirement already satisfied: tornado<7,>=6.0.3 in c:\\programdata\\anaconda3\\lib\\site-packages (from streamlit) (6.3.2)\n",
      "Requirement already satisfied: watchdog>=2.1.5 in c:\\programdata\\anaconda3\\lib\\site-packages (from streamlit) (2.1.6)\n",
      "Requirement already satisfied: jinja2 in c:\\programdata\\anaconda3\\lib\\site-packages (from altair<6,>=4.0->streamlit) (3.1.2)\n",
      "Requirement already satisfied: jsonschema>=3.0 in c:\\programdata\\anaconda3\\lib\\site-packages (from altair<6,>=4.0->streamlit) (4.17.3)\n",
      "Requirement already satisfied: toolz in c:\\programdata\\anaconda3\\lib\\site-packages (from altair<6,>=4.0->streamlit) (0.12.0)\n",
      "Requirement already satisfied: colorama in c:\\programdata\\anaconda3\\lib\\site-packages (from click<9,>=7.0->streamlit) (0.4.6)\n",
      "Requirement already satisfied: gitdb<5,>=4.0.1 in c:\\users\\prawi\\appdata\\roaming\\python\\python311\\site-packages (from gitpython!=3.1.19,<4,>=3.0.7->streamlit) (4.0.11)\n",
      "Requirement already satisfied: zipp>=0.5 in c:\\programdata\\anaconda3\\lib\\site-packages (from importlib-metadata<7,>=1.4->streamlit) (3.11.0)\n",
      "Requirement already satisfied: pytz>=2020.1 in c:\\programdata\\anaconda3\\lib\\site-packages (from pandas<3,>=1.3.0->streamlit) (2022.7)\n",
      "Requirement already satisfied: six>=1.5 in c:\\programdata\\anaconda3\\lib\\site-packages (from python-dateutil<3,>=2.7.3->streamlit) (1.16.0)\n",
      "Requirement already satisfied: charset-normalizer<4,>=2 in c:\\programdata\\anaconda3\\lib\\site-packages (from requests<3,>=2.27->streamlit) (2.0.4)\n",
      "Requirement already satisfied: idna<4,>=2.5 in c:\\programdata\\anaconda3\\lib\\site-packages (from requests<3,>=2.27->streamlit) (3.4)\n",
      "Requirement already satisfied: urllib3<3,>=1.21.1 in c:\\programdata\\anaconda3\\lib\\site-packages (from requests<3,>=2.27->streamlit) (1.26.16)\n",
      "Requirement already satisfied: certifi>=2017.4.17 in c:\\programdata\\anaconda3\\lib\\site-packages (from requests<3,>=2.27->streamlit) (2023.7.22)\n",
      "Requirement already satisfied: markdown-it-py>=2.2.0 in c:\\programdata\\anaconda3\\lib\\site-packages (from rich<14,>=10.14.0->streamlit) (2.2.0)\n",
      "Requirement already satisfied: pygments<3.0.0,>=2.13.0 in c:\\programdata\\anaconda3\\lib\\site-packages (from rich<14,>=10.14.0->streamlit) (2.15.1)\n",
      "Requirement already satisfied: tzdata in c:\\users\\prawi\\appdata\\roaming\\python\\python311\\site-packages (from tzlocal<6,>=1.1->streamlit) (2023.3)\n",
      "Requirement already satisfied: smmap<6,>=3.0.1 in c:\\users\\prawi\\appdata\\roaming\\python\\python311\\site-packages (from gitdb<5,>=4.0.1->gitpython!=3.1.19,<4,>=3.0.7->streamlit) (5.0.1)\n",
      "Requirement already satisfied: MarkupSafe>=2.0 in c:\\programdata\\anaconda3\\lib\\site-packages (from jinja2->altair<6,>=4.0->streamlit) (2.1.1)\n",
      "Requirement already satisfied: attrs>=17.4.0 in c:\\programdata\\anaconda3\\lib\\site-packages (from jsonschema>=3.0->altair<6,>=4.0->streamlit) (22.1.0)\n",
      "Requirement already satisfied: pyrsistent!=0.17.0,!=0.17.1,!=0.17.2,>=0.14.0 in c:\\programdata\\anaconda3\\lib\\site-packages (from jsonschema>=3.0->altair<6,>=4.0->streamlit) (0.18.0)\n",
      "Requirement already satisfied: mdurl~=0.1 in c:\\programdata\\anaconda3\\lib\\site-packages (from markdown-it-py>=2.2.0->rich<14,>=10.14.0->streamlit) (0.1.0)\n"
     ]
    }
   ],
   "source": [
    "!pip install streamlit"
   ]
  },
  {
   "cell_type": "code",
   "execution_count": 48,
   "id": "673a15d2",
   "metadata": {},
   "outputs": [
    {
     "name": "stdout",
     "output_type": "stream",
     "text": [
      "Defaulting to user installation because normal site-packages is not writeable\n",
      "Requirement already satisfied: streamlit-option-menu in c:\\users\\prawi\\appdata\\roaming\\python\\python311\\site-packages (0.3.6)\n",
      "Requirement already satisfied: streamlit>=0.63 in c:\\users\\prawi\\appdata\\roaming\\python\\python311\\site-packages (from streamlit-option-menu) (1.28.0)\n",
      "Requirement already satisfied: altair<6,>=4.0 in c:\\users\\prawi\\appdata\\roaming\\python\\python311\\site-packages (from streamlit>=0.63->streamlit-option-menu) (5.1.2)\n",
      "Requirement already satisfied: blinker<2,>=1.0.0 in c:\\users\\prawi\\appdata\\roaming\\python\\python311\\site-packages (from streamlit>=0.63->streamlit-option-menu) (1.6.3)\n",
      "Requirement already satisfied: cachetools<6,>=4.0 in c:\\users\\prawi\\appdata\\roaming\\python\\python311\\site-packages (from streamlit>=0.63->streamlit-option-menu) (5.3.2)\n",
      "Requirement already satisfied: click<9,>=7.0 in c:\\programdata\\anaconda3\\lib\\site-packages (from streamlit>=0.63->streamlit-option-menu) (8.0.4)\n",
      "Requirement already satisfied: importlib-metadata<7,>=1.4 in c:\\programdata\\anaconda3\\lib\\site-packages (from streamlit>=0.63->streamlit-option-menu) (6.0.0)\n",
      "Requirement already satisfied: numpy<2,>=1.19.3 in c:\\programdata\\anaconda3\\lib\\site-packages (from streamlit>=0.63->streamlit-option-menu) (1.24.3)\n",
      "Requirement already satisfied: packaging<24,>=16.8 in c:\\programdata\\anaconda3\\lib\\site-packages (from streamlit>=0.63->streamlit-option-menu) (23.0)\n",
      "Requirement already satisfied: pandas<3,>=1.3.0 in c:\\programdata\\anaconda3\\lib\\site-packages (from streamlit>=0.63->streamlit-option-menu) (1.5.3)\n",
      "Requirement already satisfied: pillow<11,>=7.1.0 in c:\\programdata\\anaconda3\\lib\\site-packages (from streamlit>=0.63->streamlit-option-menu) (9.4.0)\n",
      "Requirement already satisfied: protobuf<5,>=3.20 in c:\\users\\prawi\\appdata\\roaming\\python\\python311\\site-packages (from streamlit>=0.63->streamlit-option-menu) (4.21.12)\n",
      "Requirement already satisfied: pyarrow>=6.0 in c:\\programdata\\anaconda3\\lib\\site-packages (from streamlit>=0.63->streamlit-option-menu) (11.0.0)\n",
      "Requirement already satisfied: python-dateutil<3,>=2.7.3 in c:\\programdata\\anaconda3\\lib\\site-packages (from streamlit>=0.63->streamlit-option-menu) (2.8.2)\n",
      "Requirement already satisfied: requests<3,>=2.27 in c:\\programdata\\anaconda3\\lib\\site-packages (from streamlit>=0.63->streamlit-option-menu) (2.31.0)\n",
      "Requirement already satisfied: rich<14,>=10.14.0 in c:\\users\\prawi\\appdata\\roaming\\python\\python311\\site-packages (from streamlit>=0.63->streamlit-option-menu) (13.6.0)\n",
      "Requirement already satisfied: tenacity<9,>=8.1.0 in c:\\programdata\\anaconda3\\lib\\site-packages (from streamlit>=0.63->streamlit-option-menu) (8.2.2)\n",
      "Requirement already satisfied: toml<2,>=0.10.1 in c:\\programdata\\anaconda3\\lib\\site-packages (from streamlit>=0.63->streamlit-option-menu) (0.10.2)\n",
      "Requirement already satisfied: typing-extensions<5,>=4.3.0 in c:\\programdata\\anaconda3\\lib\\site-packages (from streamlit>=0.63->streamlit-option-menu) (4.7.1)\n",
      "Requirement already satisfied: tzlocal<6,>=1.1 in c:\\users\\prawi\\appdata\\roaming\\python\\python311\\site-packages (from streamlit>=0.63->streamlit-option-menu) (5.2)\n",
      "Requirement already satisfied: validators<1,>=0.2 in c:\\users\\prawi\\appdata\\roaming\\python\\python311\\site-packages (from streamlit>=0.63->streamlit-option-menu) (0.22.0)\n",
      "Requirement already satisfied: gitpython!=3.1.19,<4,>=3.0.7 in c:\\users\\prawi\\appdata\\roaming\\python\\python311\\site-packages (from streamlit>=0.63->streamlit-option-menu) (3.1.40)\n",
      "Requirement already satisfied: pydeck<1,>=0.8.0b4 in c:\\users\\prawi\\appdata\\roaming\\python\\python311\\site-packages (from streamlit>=0.63->streamlit-option-menu) (0.8.1b0)\n",
      "Requirement already satisfied: tornado<7,>=6.0.3 in c:\\programdata\\anaconda3\\lib\\site-packages (from streamlit>=0.63->streamlit-option-menu) (6.3.2)\n",
      "Requirement already satisfied: watchdog>=2.1.5 in c:\\programdata\\anaconda3\\lib\\site-packages (from streamlit>=0.63->streamlit-option-menu) (2.1.6)\n",
      "Requirement already satisfied: jinja2 in c:\\programdata\\anaconda3\\lib\\site-packages (from altair<6,>=4.0->streamlit>=0.63->streamlit-option-menu) (3.1.2)\n",
      "Requirement already satisfied: jsonschema>=3.0 in c:\\programdata\\anaconda3\\lib\\site-packages (from altair<6,>=4.0->streamlit>=0.63->streamlit-option-menu) (4.17.3)\n",
      "Requirement already satisfied: toolz in c:\\programdata\\anaconda3\\lib\\site-packages (from altair<6,>=4.0->streamlit>=0.63->streamlit-option-menu) (0.12.0)\n",
      "Requirement already satisfied: colorama in c:\\programdata\\anaconda3\\lib\\site-packages (from click<9,>=7.0->streamlit>=0.63->streamlit-option-menu) (0.4.6)\n",
      "Requirement already satisfied: gitdb<5,>=4.0.1 in c:\\users\\prawi\\appdata\\roaming\\python\\python311\\site-packages (from gitpython!=3.1.19,<4,>=3.0.7->streamlit>=0.63->streamlit-option-menu) (4.0.11)\n",
      "Requirement already satisfied: zipp>=0.5 in c:\\programdata\\anaconda3\\lib\\site-packages (from importlib-metadata<7,>=1.4->streamlit>=0.63->streamlit-option-menu) (3.11.0)\n",
      "Requirement already satisfied: pytz>=2020.1 in c:\\programdata\\anaconda3\\lib\\site-packages (from pandas<3,>=1.3.0->streamlit>=0.63->streamlit-option-menu) (2022.7)\n",
      "Requirement already satisfied: six>=1.5 in c:\\programdata\\anaconda3\\lib\\site-packages (from python-dateutil<3,>=2.7.3->streamlit>=0.63->streamlit-option-menu) (1.16.0)\n",
      "Requirement already satisfied: charset-normalizer<4,>=2 in c:\\programdata\\anaconda3\\lib\\site-packages (from requests<3,>=2.27->streamlit>=0.63->streamlit-option-menu) (2.0.4)\n",
      "Requirement already satisfied: idna<4,>=2.5 in c:\\programdata\\anaconda3\\lib\\site-packages (from requests<3,>=2.27->streamlit>=0.63->streamlit-option-menu) (3.4)\n",
      "Requirement already satisfied: urllib3<3,>=1.21.1 in c:\\programdata\\anaconda3\\lib\\site-packages (from requests<3,>=2.27->streamlit>=0.63->streamlit-option-menu) (1.26.16)\n",
      "Requirement already satisfied: certifi>=2017.4.17 in c:\\programdata\\anaconda3\\lib\\site-packages (from requests<3,>=2.27->streamlit>=0.63->streamlit-option-menu) (2023.7.22)\n",
      "Requirement already satisfied: markdown-it-py>=2.2.0 in c:\\programdata\\anaconda3\\lib\\site-packages (from rich<14,>=10.14.0->streamlit>=0.63->streamlit-option-menu) (2.2.0)\n",
      "Requirement already satisfied: pygments<3.0.0,>=2.13.0 in c:\\programdata\\anaconda3\\lib\\site-packages (from rich<14,>=10.14.0->streamlit>=0.63->streamlit-option-menu) (2.15.1)\n",
      "Requirement already satisfied: tzdata in c:\\users\\prawi\\appdata\\roaming\\python\\python311\\site-packages (from tzlocal<6,>=1.1->streamlit>=0.63->streamlit-option-menu) (2023.3)\n",
      "Requirement already satisfied: smmap<6,>=3.0.1 in c:\\users\\prawi\\appdata\\roaming\\python\\python311\\site-packages (from gitdb<5,>=4.0.1->gitpython!=3.1.19,<4,>=3.0.7->streamlit>=0.63->streamlit-option-menu) (5.0.1)\n",
      "Requirement already satisfied: MarkupSafe>=2.0 in c:\\programdata\\anaconda3\\lib\\site-packages (from jinja2->altair<6,>=4.0->streamlit>=0.63->streamlit-option-menu) (2.1.1)\n",
      "Requirement already satisfied: attrs>=17.4.0 in c:\\programdata\\anaconda3\\lib\\site-packages (from jsonschema>=3.0->altair<6,>=4.0->streamlit>=0.63->streamlit-option-menu) (22.1.0)\n",
      "Requirement already satisfied: pyrsistent!=0.17.0,!=0.17.1,!=0.17.2,>=0.14.0 in c:\\programdata\\anaconda3\\lib\\site-packages (from jsonschema>=3.0->altair<6,>=4.0->streamlit>=0.63->streamlit-option-menu) (0.18.0)\n",
      "Requirement already satisfied: mdurl~=0.1 in c:\\programdata\\anaconda3\\lib\\site-packages (from markdown-it-py>=2.2.0->rich<14,>=10.14.0->streamlit>=0.63->streamlit-option-menu) (0.1.0)\n"
     ]
    }
   ],
   "source": [
    "!pip install streamlit-option-menu"
   ]
  },
  {
   "cell_type": "code",
   "execution_count": 49,
   "id": "a6936dd9",
   "metadata": {},
   "outputs": [],
   "source": [
    "from streamlit_option_menu import option_menu"
   ]
  },
  {
   "cell_type": "code",
   "execution_count": 50,
   "id": "e4056fa0",
   "metadata": {},
   "outputs": [],
   "source": [
    "import pandas as pd\n",
    "import mysql.connector as sql\n",
    "import streamlit as st\n",
    "import plotly.express as px\n",
    "import os\n",
    "import json\n",
    "from streamlit_option_menu import option_menu\n",
    "from PIL import Image\n",
    "from git.repo.base import Repo"
   ]
  },
  {
   "cell_type": "code",
   "execution_count": 51,
   "id": "d8e4c865",
   "metadata": {},
   "outputs": [],
   "source": [
    "#Data Extraction from cloned Data "
   ]
  },
  {
   "cell_type": "code",
   "execution_count": 52,
   "id": "52244baf",
   "metadata": {},
   "outputs": [
    {
     "ename": "NameError",
     "evalue": "name 'pprint' is not defined",
     "output_type": "error",
     "traceback": [
      "\u001b[1;31m---------------------------------------------------------------------------\u001b[0m",
      "\u001b[1;31mNameError\u001b[0m                                 Traceback (most recent call last)",
      "Cell \u001b[1;32mIn[52], line 4\u001b[0m\n\u001b[0;32m      2\u001b[0m view_data \u001b[38;5;241m=\u001b[39m \u001b[38;5;28mopen\u001b[39m(path,\u001b[38;5;124m'\u001b[39m\u001b[38;5;124mr\u001b[39m\u001b[38;5;124m'\u001b[39m)\n\u001b[0;32m      3\u001b[0m A \u001b[38;5;241m=\u001b[39m json\u001b[38;5;241m.\u001b[39mload(view_data)\n\u001b[1;32m----> 4\u001b[0m pprint(A)\n",
      "\u001b[1;31mNameError\u001b[0m: name 'pprint' is not defined"
     ]
    }
   ],
   "source": [
    "path=r\"D:\\Praveen_PhonePe_Project_2023\\pulse\\data\\aggregated\\transaction\\country\\india\\state\\andaman-&-nicobar-islands\\2018\\1.json\"\n",
    "view_data = open(path,'r')\n",
    "A = json.load(view_data)\n",
    "pprint(A)"
   ]
  },
  {
   "cell_type": "code",
   "execution_count": null,
   "id": "c9739d47",
   "metadata": {},
   "outputs": [],
   "source": []
  },
  {
   "cell_type": "code",
   "execution_count": 62,
   "id": "8f663c4b",
   "metadata": {},
   "outputs": [],
   "source": [
    "# DataFrame of Agg_Trans_T1\n",
    "\n",
    "path1 = r'D:\\Praveen_PhonePe_Project_2023\\pulse\\data\\aggregated\\transaction\\country\\india\\state'\n",
    "Agg_Trans_List = os.listdir(path1)\n",
    "\n",
    "clm1 = {'State':[],'Year':[],\n",
    "        'Quater':[],\n",
    "        'Transaction_type':[],\n",
    "        'Transaction_count':[],\n",
    "        'Transaction_amount':[]}\n",
    "for state in Agg_Trans_List:    #state is like i variable in for-loop\n",
    "    curr_state = path1 + \"/\" + state \n",
    "    Agg_Year_List = os.listdir(curr_state)\n",
    "    for year in Agg_Year_List:\n",
    "        curr_year = curr_state + \"/\" + year \n",
    "        Agg_File_List = os.listdir(curr_year)\n",
    "        for file in Agg_File_List:\n",
    "            curr_file = curr_year + \"/\" + file\n",
    "            data1 = open(curr_file,'r')\n",
    "            A = json.load(data1)\n",
    "\n",
    "            for z in A['data']['transactionData']:\n",
    "                Name=z['name']\n",
    "                count=z['paymentInstruments'][0]['count']\n",
    "                amount=z['paymentInstruments'][0]['amount']\n",
    "                clm1['Transaction_type'].append(Name)\n",
    "                clm1['Transaction_count'].append(count)\n",
    "                clm1['Transaction_amount'].append(amount)\n",
    "                clm1['State'].append(state)\n",
    "                clm1['Year'].append(year)\n",
    "                clm1['Quater'].append(int(file.strip('.json')))\n",
    "                #Succesfully created a dataframe\n",
    "Agg_Trans=pd.DataFrame(clm1)"
   ]
  },
  {
   "cell_type": "code",
   "execution_count": 78,
   "id": "96082333",
   "metadata": {},
   "outputs": [
    {
     "data": {
      "text/html": [
       "<div>\n",
       "<style scoped>\n",
       "    .dataframe tbody tr th:only-of-type {\n",
       "        vertical-align: middle;\n",
       "    }\n",
       "\n",
       "    .dataframe tbody tr th {\n",
       "        vertical-align: top;\n",
       "    }\n",
       "\n",
       "    .dataframe thead th {\n",
       "        text-align: right;\n",
       "    }\n",
       "</style>\n",
       "<table border=\"1\" class=\"dataframe\">\n",
       "  <thead>\n",
       "    <tr style=\"text-align: right;\">\n",
       "      <th></th>\n",
       "      <th>State</th>\n",
       "      <th>Year</th>\n",
       "      <th>Quater</th>\n",
       "      <th>Transaction_type</th>\n",
       "      <th>Transaction_count</th>\n",
       "      <th>Transaction_amount</th>\n",
       "    </tr>\n",
       "  </thead>\n",
       "  <tbody>\n",
       "    <tr>\n",
       "      <th>0</th>\n",
       "      <td>andaman-&amp;-nicobar-islands</td>\n",
       "      <td>2018</td>\n",
       "      <td>1</td>\n",
       "      <td>Recharge &amp; bill payments</td>\n",
       "      <td>4200</td>\n",
       "      <td>1.845307e+06</td>\n",
       "    </tr>\n",
       "  </tbody>\n",
       "</table>\n",
       "</div>"
      ],
      "text/plain": [
       "                       State  Year  Quater          Transaction_type  \\\n",
       "0  andaman-&-nicobar-islands  2018       1  Recharge & bill payments   \n",
       "\n",
       "   Transaction_count  Transaction_amount  \n",
       "0               4200        1.845307e+06  "
      ]
     },
     "execution_count": 78,
     "metadata": {},
     "output_type": "execute_result"
    }
   ],
   "source": [
    "Agg_Trans.head(1)"
   ]
  },
  {
   "cell_type": "code",
   "execution_count": null,
   "id": "b51cdc91",
   "metadata": {},
   "outputs": [],
   "source": [
    "#to check Agg_User_table \n",
    "path2=r\"D:\\Praveen_PhonePe_Project_2023\\pulse\\data\\aggregated\\user\\country\\india\\state\\andaman-&-nicobar-islands\\2018\\1.json\"\n",
    "view_data = open(path2,'r')\n",
    "D = json.load(view_data)\n",
    "pprint(D)"
   ]
  },
  {
   "cell_type": "code",
   "execution_count": 72,
   "id": "98b4b8f4",
   "metadata": {},
   "outputs": [],
   "source": [
    "## Agg_User_DataFrame: T2\n",
    "\n",
    "path2 = r\"D:\\Praveen_PhonePe_Project_2023\\pulse\\data\\aggregated\\user\\country\\india\\state\"\n",
    "Agg_User_List = os.listdir(path2)\n",
    "\n",
    "clm2 = {'State':[], 'Year': [], 'Quater': [], 'Brand_Name': [], 'Count': [], 'Percentage': [] }\n",
    "\n",
    "for i in Agg_User_List:\n",
    "    p_i = path2 + \"/\" + i\n",
    "    Agg_yr = os.listdir(p_i)\n",
    "    for j in Agg_yr:\n",
    "        p_j = p_i + \"/\" + j\n",
    "        Agg_file = os.listdir(p_j)\n",
    "        for k in Agg_file:\n",
    "            p_k = p_j + \"/\" + k\n",
    "            data2 = open(p_k,'r')\n",
    "            B = json.load(data2)\n",
    "            try:\n",
    "                for z in B['data']['usersByDevice']:\n",
    "                    brands = z['brand']\n",
    "                    counts = z['count']\n",
    "                    percentages = z['percentage']\n",
    "                    clm2['Brand_Name'].append(brands)\n",
    "                    clm2['Count'].append(counts)\n",
    "                    clm2['Percentage'].append(percentages)\n",
    "                    clm2['State'].append(state)\n",
    "                    clm2['Year'].append(year)\n",
    "                    clm2['Quater'].append(int(k.strip('.json')))\n",
    "            except:\n",
    "                pass\n",
    "Agg_User = pd.DataFrame(clm2)"
   ]
  },
  {
   "cell_type": "code",
   "execution_count": null,
   "id": "b40674c1",
   "metadata": {},
   "outputs": [],
   "source": [
    "Agg_User.shape"
   ]
  },
  {
   "cell_type": "code",
   "execution_count": null,
   "id": "875ad7ee",
   "metadata": {},
   "outputs": [],
   "source": [
    "Agg_User"
   ]
  },
  {
   "cell_type": "code",
   "execution_count": null,
   "id": "aca1072a",
   "metadata": {},
   "outputs": [],
   "source": [
    "p = r\"D:\\Praveen_PhonePe_Project_2023\\pulse\\data\\map\\transaction\\hover\\country\\india\\state\\andaman-&-nicobar-islands\\2018\\1.json\"\n",
    "x = open(p,'r')\n",
    "c = json.load(x)\n",
    "pprint(c)\n"
   ]
  },
  {
   "cell_type": "code",
   "execution_count": null,
   "id": "33cc3e5d",
   "metadata": {},
   "outputs": [],
   "source": [
    "c['data']['hoverDataList'] #district name , trns_type, trsns_count, trans_amount"
   ]
  },
  {
   "cell_type": "code",
   "execution_count": null,
   "id": "f774453c",
   "metadata": {},
   "outputs": [],
   "source": []
  },
  {
   "cell_type": "code",
   "execution_count": 73,
   "id": "4b1be88e",
   "metadata": {},
   "outputs": [],
   "source": [
    "## Map_Transaction_DataFrame: T3\n",
    "\n",
    "path3 = r'D:\\Praveen_PhonePe_Project_2023\\pulse\\data\\map\\transaction\\hover\\country\\india\\state'\n",
    "Map_Trans_List = os.listdir(path3)\n",
    "\n",
    "clm3 = {'State':[],'Year':[],'Quater':[],\n",
    "        'District_Name':[],\n",
    "        'Transaction_count':[],\n",
    "        'Transaction_amount':[]}\n",
    "for state in Agg_Trans_List:    #state is like i variable in for-loop\n",
    "    curr_state = path3 + \"/\" + state \n",
    "    Agg_Year_List = os.listdir(curr_state)\n",
    "    for year in Agg_Year_List:\n",
    "        curr_year = curr_state + \"/\" + year \n",
    "        Agg_File_List = os.listdir(curr_year)\n",
    "        for file in Agg_File_List:\n",
    "            curr_file = curr_year + \"/\" + file\n",
    "            data3 = open(curr_file,'r')\n",
    "            C = json.load(data3)\n",
    "\n",
    "            for z in C['data']['hoverDataList']:\n",
    "                district_Name=z['name']\n",
    "                count=z['metric'][0]['count']\n",
    "                amount=z['metric'][0]['amount']\n",
    "                clm3['District_Name'].append(district_Name)\n",
    "                clm3['Transaction_count'].append(count)\n",
    "                clm3['Transaction_amount'].append(amount)\n",
    "                clm3['State'].append(state)\n",
    "                clm3['Year'].append(year)\n",
    "                clm3['Quater'].append(int(file.strip('.json')))\n",
    "                #Succesfully created a dataframe\n",
    "Map_Trans=pd.DataFrame(clm3)"
   ]
  },
  {
   "cell_type": "code",
   "execution_count": null,
   "id": "6d1d030b",
   "metadata": {},
   "outputs": [],
   "source": [
    "Map_Trans"
   ]
  },
  {
   "cell_type": "code",
   "execution_count": null,
   "id": "b9df7a36",
   "metadata": {},
   "outputs": [],
   "source": [
    "Map_Trans.shape"
   ]
  },
  {
   "cell_type": "code",
   "execution_count": null,
   "id": "fec98250",
   "metadata": {},
   "outputs": [],
   "source": []
  },
  {
   "cell_type": "code",
   "execution_count": null,
   "id": "4d216d75",
   "metadata": {},
   "outputs": [],
   "source": [
    "#to check Agg_User_table \n",
    "path4=r\"D:\\Praveen_PhonePe_Project_2023\\pulse\\data\\map\\user\\hover\\country\\india\\state\\andaman-&-nicobar-islands\\2018\\1.json\"\n",
    "view_data = open(path4,'r')\n",
    "D = json.load(view_data)\n",
    "pprint(D)"
   ]
  },
  {
   "cell_type": "code",
   "execution_count": null,
   "id": "6dfda591",
   "metadata": {},
   "outputs": [],
   "source": [
    "D['data']['hoverData']"
   ]
  },
  {
   "cell_type": "code",
   "execution_count": null,
   "id": "d9aa3341",
   "metadata": {},
   "outputs": [],
   "source": []
  },
  {
   "cell_type": "code",
   "execution_count": 74,
   "id": "b86a289e",
   "metadata": {},
   "outputs": [],
   "source": [
    "## Map_User_DataFrame: T4\n",
    "\n",
    "path4 = r\"D:\\Praveen_PhonePe_Project_2023\\pulse\\data\\map\\user\\hover\\country\\india\\state\"\n",
    "Map_User_List = os.listdir(path4)\n",
    "\n",
    "clm4 = {'State':[], 'Year': [], 'Quater': [], 'District_Name': [], 'Reg_Users': [], 'App_Open': [] }\n",
    "\n",
    "for i in Map_User_List:\n",
    "    p_i = path4 + \"/\" + i\n",
    "    Map_yr = os.listdir(p_i)\n",
    "    for j in Map_yr:\n",
    "        p_j = p_i + \"/\" + j\n",
    "        Map_file = os.listdir(p_j)\n",
    "        for k in Map_file:\n",
    "            p_k = p_j + \"/\" + k\n",
    "            data4 = open(p_k,'r')\n",
    "            D = json.load(data4)\n",
    "            for z in D['data']['hoverData'].items():\n",
    "                district_Name  = z[0]\n",
    "                reg_users = z[1]['registeredUsers']\n",
    "                appsopen = z[1]['appOpens']\n",
    "                clm4['District_Name'].append(district_Name)\n",
    "                clm4['Reg_Users'].append(reg_users)\n",
    "                clm4['App_Open'].append(appsopen)\n",
    "                clm4['State'].append(state)\n",
    "                clm4['Year'].append(year)\n",
    "                clm4['Quater'].append(int(k.strip('.json')))\n",
    "                \n",
    "Map_User = pd.DataFrame(clm4)"
   ]
  },
  {
   "cell_type": "code",
   "execution_count": null,
   "id": "8fd43fec",
   "metadata": {},
   "outputs": [],
   "source": [
    "Map_User"
   ]
  },
  {
   "cell_type": "code",
   "execution_count": null,
   "id": "d46e0f02",
   "metadata": {},
   "outputs": [],
   "source": [
    "Map_User.shape"
   ]
  },
  {
   "cell_type": "code",
   "execution_count": null,
   "id": "6784e7ab",
   "metadata": {},
   "outputs": [],
   "source": []
  },
  {
   "cell_type": "code",
   "execution_count": null,
   "id": "cb7b2557",
   "metadata": {},
   "outputs": [],
   "source": [
    "p = r\"D:\\Praveen_PhonePe_Project_2023\\pulse\\data\\top\\transaction\\country\\india\\state\\andaman-&-nicobar-islands\\2018\\1.json\"\n",
    "x = open(p,'r')\n",
    "e = json.load(x)\n",
    "pprint(e)"
   ]
  },
  {
   "cell_type": "code",
   "execution_count": null,
   "id": "a6def700",
   "metadata": {},
   "outputs": [],
   "source": [
    "e['data']['pincodes'][0]"
   ]
  },
  {
   "cell_type": "code",
   "execution_count": null,
   "id": "51e7c289",
   "metadata": {},
   "outputs": [],
   "source": []
  },
  {
   "cell_type": "code",
   "execution_count": 102,
   "id": "ce187842",
   "metadata": {},
   "outputs": [],
   "source": [
    "## Top_Transaction_DataFrame: T5\n",
    "\n",
    "path5 = r'D:\\Praveen_PhonePe_Project_2023\\pulse\\data\\top\\transaction\\country\\india\\state'\n",
    "Top_Trans_List = os.listdir(path5)\n",
    "\n",
    "clm5 = {'State':[],'Year':[],'Quater':[],\n",
    "        'Pincodes':[],\n",
    "        'Transaction_count':[],\n",
    "        'Transaction_amount':[]}\n",
    "for state in Top_Trans_List:    #state is like i variable in for-loop\n",
    "    curr_state = path5 + \"/\" + state \n",
    "    Agg_Year_List = os.listdir(curr_state)\n",
    "    for year in Agg_Year_List:\n",
    "        curr_year = curr_state + \"/\" + year \n",
    "        Agg_File_List = os.listdir(curr_year)\n",
    "        for file in Agg_File_List:\n",
    "            curr_file = curr_year + \"/\" + file\n",
    "            data5 = open(curr_file,'r')\n",
    "            E = json.load(data5)\n",
    "\n",
    "            for z in E['data']['pincodes']:\n",
    "                pincodes=z['entityName']\n",
    "                count=z['metric']['count']\n",
    "                amount=z['metric']['amount']\n",
    "                clm5['Pincodes'].append(pincodes)\n",
    "                clm5['Transaction_count'].append(count)\n",
    "                clm5['Transaction_amount'].append(amount)\n",
    "                clm5['State'].append(state)\n",
    "                clm5['Year'].append(year)\n",
    "                clm5['Quater'].append(int(file.strip('.json')))\n",
    "                #Succesfully created a dataframe\n",
    "Top_Trans=pd.DataFrame(clm5)"
   ]
  },
  {
   "cell_type": "code",
   "execution_count": 103,
   "id": "07d9d795",
   "metadata": {},
   "outputs": [
    {
     "data": {
      "text/html": [
       "<div>\n",
       "<style scoped>\n",
       "    .dataframe tbody tr th:only-of-type {\n",
       "        vertical-align: middle;\n",
       "    }\n",
       "\n",
       "    .dataframe tbody tr th {\n",
       "        vertical-align: top;\n",
       "    }\n",
       "\n",
       "    .dataframe thead th {\n",
       "        text-align: right;\n",
       "    }\n",
       "</style>\n",
       "<table border=\"1\" class=\"dataframe\">\n",
       "  <thead>\n",
       "    <tr style=\"text-align: right;\">\n",
       "      <th></th>\n",
       "      <th>State</th>\n",
       "      <th>Year</th>\n",
       "      <th>Quater</th>\n",
       "      <th>Pincodes</th>\n",
       "      <th>Transaction_count</th>\n",
       "      <th>Transaction_amount</th>\n",
       "    </tr>\n",
       "  </thead>\n",
       "  <tbody>\n",
       "    <tr>\n",
       "      <th>0</th>\n",
       "      <td>andaman-&amp;-nicobar-islands</td>\n",
       "      <td>2018</td>\n",
       "      <td>1</td>\n",
       "      <td>744101</td>\n",
       "      <td>1622</td>\n",
       "      <td>2.769298e+06</td>\n",
       "    </tr>\n",
       "    <tr>\n",
       "      <th>1</th>\n",
       "      <td>andaman-&amp;-nicobar-islands</td>\n",
       "      <td>2018</td>\n",
       "      <td>1</td>\n",
       "      <td>744103</td>\n",
       "      <td>1223</td>\n",
       "      <td>2.238042e+06</td>\n",
       "    </tr>\n",
       "    <tr>\n",
       "      <th>2</th>\n",
       "      <td>andaman-&amp;-nicobar-islands</td>\n",
       "      <td>2018</td>\n",
       "      <td>1</td>\n",
       "      <td>744102</td>\n",
       "      <td>969</td>\n",
       "      <td>3.519060e+06</td>\n",
       "    </tr>\n",
       "  </tbody>\n",
       "</table>\n",
       "</div>"
      ],
      "text/plain": [
       "                       State  Year  Quater Pincodes  Transaction_count  \\\n",
       "0  andaman-&-nicobar-islands  2018       1   744101               1622   \n",
       "1  andaman-&-nicobar-islands  2018       1   744103               1223   \n",
       "2  andaman-&-nicobar-islands  2018       1   744102                969   \n",
       "\n",
       "   Transaction_amount  \n",
       "0        2.769298e+06  \n",
       "1        2.238042e+06  \n",
       "2        3.519060e+06  "
      ]
     },
     "execution_count": 103,
     "metadata": {},
     "output_type": "execute_result"
    }
   ],
   "source": [
    "Top_Trans.head(3)"
   ]
  },
  {
   "cell_type": "code",
   "execution_count": 94,
   "id": "f97c5c63",
   "metadata": {
    "scrolled": true
   },
   "outputs": [
    {
     "data": {
      "text/plain": [
       "(8210, 6)"
      ]
     },
     "execution_count": 94,
     "metadata": {},
     "output_type": "execute_result"
    }
   ],
   "source": [
    "Top_Trans.shape"
   ]
  },
  {
   "cell_type": "code",
   "execution_count": null,
   "id": "9dae9a40",
   "metadata": {},
   "outputs": [],
   "source": []
  },
  {
   "cell_type": "code",
   "execution_count": null,
   "id": "57545214",
   "metadata": {},
   "outputs": [],
   "source": [
    "p6 = r\"D:\\Praveen_PhonePe_Project_2023\\pulse\\data\\top\\user\\country\\india\\state\\andaman-&-nicobar-islands\\2018\\1.json\"\n",
    "x = open(p6,'r')\n",
    "f = json.load(x)\n",
    "pprint(f)"
   ]
  },
  {
   "cell_type": "code",
   "execution_count": 106,
   "id": "c6f28ebc",
   "metadata": {},
   "outputs": [],
   "source": [
    "## Top_User_DataFrame: T6\n",
    "\n",
    "path6 = r\"D:\\Praveen_PhonePe_Project_2023\\pulse\\data\\top\\user\\country\\india\\state\"\n",
    "Top_User_List = os.listdir(path6)\n",
    "\n",
    "clm6 = {'State':[],'Year':[],'Quater':[],\n",
    "        'Pincodes':[],\n",
    "        'Reg_Users':[],}\n",
    "\n",
    "for state in Top_User_List:    #state is like i variable in for-loop\n",
    "    curr_state = path6 + \"/\" + state \n",
    "    Agg_Year_List = os.listdir(curr_state)\n",
    "    for year in Agg_Year_List:\n",
    "        curr_year = curr_state + \"/\" + year \n",
    "        Agg_File_List = os.listdir(curr_year)\n",
    "        for file in Agg_File_List:\n",
    "            curr_file = curr_year + \"/\" + file\n",
    "            data6 = open(curr_file,'r')\n",
    "            F = json.load(data6)\n",
    "            for i in F['data']['pincodes']:\n",
    "                name = i['name']\n",
    "                RegisteredUsers = i['registeredUsers']\n",
    "                clm6['Pincodes'].append(name)\n",
    "                clm6['Reg_Users'].append(RegisteredUsers)\n",
    "                clm6['State'].append(state)\n",
    "                clm6['Year'].append(year)\n",
    "                clm6['Quater'].append(int(file.strip('.json')))\n",
    "                \n",
    "Top_User = pd.DataFrame(clm6)         "
   ]
  },
  {
   "cell_type": "code",
   "execution_count": null,
   "id": "28a3a9b8",
   "metadata": {},
   "outputs": [],
   "source": [
    "Top_User"
   ]
  },
  {
   "cell_type": "code",
   "execution_count": 107,
   "id": "941ef646",
   "metadata": {},
   "outputs": [
    {
     "data": {
      "text/plain": [
       "(8211, 5)"
      ]
     },
     "execution_count": 107,
     "metadata": {},
     "output_type": "execute_result"
    }
   ],
   "source": [
    "Top_User.shape"
   ]
  },
  {
   "cell_type": "code",
   "execution_count": null,
   "id": "71aec075",
   "metadata": {},
   "outputs": [],
   "source": []
  },
  {
   "cell_type": "markdown",
   "id": "b4d9a119",
   "metadata": {},
   "source": [
    "# Converting json(loaded) to .csv file "
   ]
  },
  {
   "cell_type": "code",
   "execution_count": null,
   "id": "8b69a4c1",
   "metadata": {},
   "outputs": [],
   "source": [
    "##DataFrames\n",
    "\n",
    "Agg_Trans\n",
    "Agg_User\n",
    "Map_Trans\n",
    "Map_User\n",
    "Top_Trans\n",
    "Top_User"
   ]
  },
  {
   "cell_type": "code",
   "execution_count": null,
   "id": "3c481caf",
   "metadata": {},
   "outputs": [],
   "source": [
    "Agg_Trans.to_csv('Agg_Trans.csv',index=False)\n",
    "Agg_User.to_csv('Agg_User.csv',index=False)\n",
    "Map_Trans.to_csv('Map_Trans.csv',index=False)\n",
    "Map_User.to_csv('Map_User.csv',index=False)\n",
    "Top_Trans.to_csv('Top_Trans.csv',index=False)\n",
    "Top_User.to_csv('Top_User.csv',index=False)"
   ]
  },
  {
   "cell_type": "code",
   "execution_count": null,
   "id": "5e13199a",
   "metadata": {},
   "outputs": [],
   "source": []
  },
  {
   "cell_type": "markdown",
   "id": "e7929105",
   "metadata": {},
   "source": [
    "## Connecting MySQL"
   ]
  },
  {
   "cell_type": "code",
   "execution_count": null,
   "id": "5373fae0",
   "metadata": {},
   "outputs": [],
   "source": [
    "!pip install pymysql"
   ]
  },
  {
   "cell_type": "code",
   "execution_count": null,
   "id": "60a53a2a",
   "metadata": {},
   "outputs": [],
   "source": [
    "#Install mysql connector # already imported \n",
    "\n",
    "import pymysql\n",
    "#import mysql.connector as sql"
   ]
  },
  {
   "cell_type": "code",
   "execution_count": null,
   "id": "34d24163",
   "metadata": {},
   "outputs": [],
   "source": [
    "##Connecting to SQL"
   ]
  },
  {
   "cell_type": "code",
   "execution_count": null,
   "id": "7a286b13",
   "metadata": {
    "scrolled": true
   },
   "outputs": [],
   "source": [
    "mydb = pymysql.connect(host=\"localhost\",\n",
    "                  user=\"root\",\n",
    "                  password=\"vkDS@2723\",\n",
    "                  autocommit = True\n",
    "                  )\n",
    "#mycursor = mydb.cursor(buffered=True)\n",
    "print(mydb)"
   ]
  },
  {
   "cell_type": "code",
   "execution_count": null,
   "id": "75e02e0f",
   "metadata": {},
   "outputs": [],
   "source": [
    "mycursor = mydb.cursor()\n"
   ]
  },
  {
   "cell_type": "code",
   "execution_count": null,
   "id": "ae51a0ba",
   "metadata": {},
   "outputs": [],
   "source": [
    "#create Database phonepe_pulse"
   ]
  },
  {
   "cell_type": "code",
   "execution_count": null,
   "id": "24b8f0f7",
   "metadata": {},
   "outputs": [],
   "source": [
    "mycursor.execute(\"CREATE DATABASE phonepe_pulse\")"
   ]
  },
  {
   "cell_type": "code",
   "execution_count": null,
   "id": "39d9bbe6",
   "metadata": {},
   "outputs": [],
   "source": [
    "#use Database phonepe_pulse"
   ]
  },
  {
   "cell_type": "code",
   "execution_count": null,
   "id": "3b09dde9",
   "metadata": {},
   "outputs": [],
   "source": [
    "mycursor.execute('use phonepe_pulse')"
   ]
  },
  {
   "cell_type": "code",
   "execution_count": null,
   "id": "87d26e49",
   "metadata": {},
   "outputs": [],
   "source": [
    "#create Table T1/Agg_Trans"
   ]
  },
  {
   "cell_type": "code",
   "execution_count": null,
   "id": "956ce554",
   "metadata": {},
   "outputs": [],
   "source": [
    "mycursor.execute(\"create table Agg_Trans (State varchar(100), Year int, Quater int, Transaction_type varchar(100), Transaction_count int, Transaction_amount double)\")"
   ]
  },
  {
   "cell_type": "code",
   "execution_count": 66,
   "id": "2eb6a722",
   "metadata": {},
   "outputs": [],
   "source": [
    "for i,rows in Agg_Trans.iterrows():\n",
    "    sql = \"INSERT INTO Agg_Trans VALUES (%s,%s,%s,%s,%s,%s)\"\n",
    "    mycursor.execute(sql,tuple(rows))\n",
    "    mydb.commit()"
   ]
  },
  {
   "cell_type": "code",
   "execution_count": 77,
   "id": "ce5d2bce",
   "metadata": {},
   "outputs": [
    {
     "data": {
      "text/html": [
       "<div>\n",
       "<style scoped>\n",
       "    .dataframe tbody tr th:only-of-type {\n",
       "        vertical-align: middle;\n",
       "    }\n",
       "\n",
       "    .dataframe tbody tr th {\n",
       "        vertical-align: top;\n",
       "    }\n",
       "\n",
       "    .dataframe thead th {\n",
       "        text-align: right;\n",
       "    }\n",
       "</style>\n",
       "<table border=\"1\" class=\"dataframe\">\n",
       "  <thead>\n",
       "    <tr style=\"text-align: right;\">\n",
       "      <th></th>\n",
       "      <th>State</th>\n",
       "      <th>Year</th>\n",
       "      <th>Quater</th>\n",
       "      <th>Brand_Name</th>\n",
       "      <th>Count</th>\n",
       "      <th>Percentage</th>\n",
       "    </tr>\n",
       "  </thead>\n",
       "  <tbody>\n",
       "    <tr>\n",
       "      <th>0</th>\n",
       "      <td>west-bengal</td>\n",
       "      <td>2023</td>\n",
       "      <td>1</td>\n",
       "      <td>Xiaomi</td>\n",
       "      <td>1665</td>\n",
       "      <td>0.247033</td>\n",
       "    </tr>\n",
       "  </tbody>\n",
       "</table>\n",
       "</div>"
      ],
      "text/plain": [
       "         State  Year  Quater Brand_Name  Count  Percentage\n",
       "0  west-bengal  2023       1     Xiaomi   1665    0.247033"
      ]
     },
     "execution_count": 77,
     "metadata": {},
     "output_type": "execute_result"
    }
   ],
   "source": [
    "Agg_User.head(1)"
   ]
  },
  {
   "cell_type": "code",
   "execution_count": 87,
   "id": "43d5e7f0",
   "metadata": {},
   "outputs": [],
   "source": [
    "#create Table T2/Agg_User\n",
    "mycursor.execute(\"create table Agg_User (State varchar(100), Year int, Quater int, Brand_Name varchar(100), Count int, Percentage double)\")\n",
    "for i, rows in Agg_User.iterrows():\n",
    "    sql = \"INSERT INTO Agg_User VALUES(%s,%s,%s,%s,%s,%s)\"\n",
    "    mycursor.execute(sql,tuple(rows))\n",
    "    mydb.commit()"
   ]
  },
  {
   "cell_type": "code",
   "execution_count": 88,
   "id": "7880e495",
   "metadata": {},
   "outputs": [
    {
     "data": {
      "text/html": [
       "<div>\n",
       "<style scoped>\n",
       "    .dataframe tbody tr th:only-of-type {\n",
       "        vertical-align: middle;\n",
       "    }\n",
       "\n",
       "    .dataframe tbody tr th {\n",
       "        vertical-align: top;\n",
       "    }\n",
       "\n",
       "    .dataframe thead th {\n",
       "        text-align: right;\n",
       "    }\n",
       "</style>\n",
       "<table border=\"1\" class=\"dataframe\">\n",
       "  <thead>\n",
       "    <tr style=\"text-align: right;\">\n",
       "      <th></th>\n",
       "      <th>State</th>\n",
       "      <th>Year</th>\n",
       "      <th>Quater</th>\n",
       "      <th>District_Name</th>\n",
       "      <th>Transaction_count</th>\n",
       "      <th>Transaction_amount</th>\n",
       "    </tr>\n",
       "  </thead>\n",
       "  <tbody>\n",
       "    <tr>\n",
       "      <th>0</th>\n",
       "      <td>andaman-&amp;-nicobar-islands</td>\n",
       "      <td>2018</td>\n",
       "      <td>1</td>\n",
       "      <td>north and middle andaman district</td>\n",
       "      <td>442</td>\n",
       "      <td>931663.077094</td>\n",
       "    </tr>\n",
       "  </tbody>\n",
       "</table>\n",
       "</div>"
      ],
      "text/plain": [
       "                       State  Year  Quater                      District_Name  \\\n",
       "0  andaman-&-nicobar-islands  2018       1  north and middle andaman district   \n",
       "\n",
       "   Transaction_count  Transaction_amount  \n",
       "0                442       931663.077094  "
      ]
     },
     "execution_count": 88,
     "metadata": {},
     "output_type": "execute_result"
    }
   ],
   "source": [
    "Map_Trans.head(1)"
   ]
  },
  {
   "cell_type": "code",
   "execution_count": 89,
   "id": "e7f2feea",
   "metadata": {},
   "outputs": [],
   "source": [
    "#create Table T3/Map_Trans\n",
    "mycursor.execute(\"create table Map_Trans (State varchar(100), Year int, Quater int, District_Name varchar(100), Transaction_count int, Transaction_amount double)\")\n",
    "for i, rows in Map_Trans.iterrows():\n",
    "    sql = \"INSERT INTO Map_Trans VALUES(%s,%s,%s,%s,%s,%s)\"\n",
    "    mycursor.execute(sql,tuple(rows))\n",
    "    mydb.commit()"
   ]
  },
  {
   "cell_type": "code",
   "execution_count": 90,
   "id": "0816e743",
   "metadata": {},
   "outputs": [
    {
     "data": {
      "text/html": [
       "<div>\n",
       "<style scoped>\n",
       "    .dataframe tbody tr th:only-of-type {\n",
       "        vertical-align: middle;\n",
       "    }\n",
       "\n",
       "    .dataframe tbody tr th {\n",
       "        vertical-align: top;\n",
       "    }\n",
       "\n",
       "    .dataframe thead th {\n",
       "        text-align: right;\n",
       "    }\n",
       "</style>\n",
       "<table border=\"1\" class=\"dataframe\">\n",
       "  <thead>\n",
       "    <tr style=\"text-align: right;\">\n",
       "      <th></th>\n",
       "      <th>State</th>\n",
       "      <th>Year</th>\n",
       "      <th>Quater</th>\n",
       "      <th>District_Name</th>\n",
       "      <th>Reg_Users</th>\n",
       "      <th>App_Open</th>\n",
       "    </tr>\n",
       "  </thead>\n",
       "  <tbody>\n",
       "    <tr>\n",
       "      <th>0</th>\n",
       "      <td>west-bengal</td>\n",
       "      <td>2023</td>\n",
       "      <td>1</td>\n",
       "      <td>north and middle andaman district</td>\n",
       "      <td>632</td>\n",
       "      <td>0</td>\n",
       "    </tr>\n",
       "  </tbody>\n",
       "</table>\n",
       "</div>"
      ],
      "text/plain": [
       "         State  Year  Quater                      District_Name  Reg_Users  \\\n",
       "0  west-bengal  2023       1  north and middle andaman district        632   \n",
       "\n",
       "   App_Open  \n",
       "0         0  "
      ]
     },
     "execution_count": 90,
     "metadata": {},
     "output_type": "execute_result"
    }
   ],
   "source": [
    "Map_User.head(1)"
   ]
  },
  {
   "cell_type": "code",
   "execution_count": 91,
   "id": "d0561707",
   "metadata": {},
   "outputs": [],
   "source": [
    "#create Table T4/Map_User\n",
    "mycursor.execute(\"create table Map_User (State varchar(100), Year int, Quater int, District_Name varchar(100), Reg_Users int, App_Open int)\")\n",
    "for i, rows in Map_User.iterrows():\n",
    "    sql = \"INSERT INTO Map_User VALUES(%s,%s,%s,%s,%s,%s)\"\n",
    "    mycursor.execute(sql,tuple(rows))\n",
    "    mydb.commit()"
   ]
  },
  {
   "cell_type": "code",
   "execution_count": 95,
   "id": "e4985e4b",
   "metadata": {},
   "outputs": [
    {
     "data": {
      "text/html": [
       "<div>\n",
       "<style scoped>\n",
       "    .dataframe tbody tr th:only-of-type {\n",
       "        vertical-align: middle;\n",
       "    }\n",
       "\n",
       "    .dataframe tbody tr th {\n",
       "        vertical-align: top;\n",
       "    }\n",
       "\n",
       "    .dataframe thead th {\n",
       "        text-align: right;\n",
       "    }\n",
       "</style>\n",
       "<table border=\"1\" class=\"dataframe\">\n",
       "  <thead>\n",
       "    <tr style=\"text-align: right;\">\n",
       "      <th></th>\n",
       "      <th>State</th>\n",
       "      <th>Year</th>\n",
       "      <th>Quater</th>\n",
       "      <th>Pincodes</th>\n",
       "      <th>Transaction_count</th>\n",
       "      <th>Transaction_amount</th>\n",
       "    </tr>\n",
       "  </thead>\n",
       "  <tbody>\n",
       "    <tr>\n",
       "      <th>0</th>\n",
       "      <td>andaman-&amp;-nicobar-islands</td>\n",
       "      <td>2018</td>\n",
       "      <td>1</td>\n",
       "      <td>darjiling district</td>\n",
       "      <td>1622</td>\n",
       "      <td>2769297.904</td>\n",
       "    </tr>\n",
       "  </tbody>\n",
       "</table>\n",
       "</div>"
      ],
      "text/plain": [
       "                       State  Year  Quater            Pincodes  \\\n",
       "0  andaman-&-nicobar-islands  2018       1  darjiling district   \n",
       "\n",
       "   Transaction_count  Transaction_amount  \n",
       "0               1622         2769297.904  "
      ]
     },
     "execution_count": 95,
     "metadata": {},
     "output_type": "execute_result"
    }
   ],
   "source": [
    "Top_Trans.head(1)"
   ]
  },
  {
   "cell_type": "code",
   "execution_count": 104,
   "id": "c7190b98",
   "metadata": {
    "scrolled": true
   },
   "outputs": [],
   "source": [
    "#create Table T5/Top_Trans\n",
    "mycursor.execute(\"create table Top_Trans (State varchar(100), Year int, Quater int, Pincodes int, Transaction_count int, Transaction_amount double)\")\n",
    "for i, rows in Top_Trans.iterrows():\n",
    "    sql = \"INSERT INTO Top_Trans VALUES(%s,%s,%s,%s,%s,%s)\"\n",
    "    mycursor.execute(sql,tuple(rows))\n",
    "    mydb.commit()"
   ]
  },
  {
   "cell_type": "code",
   "execution_count": 108,
   "id": "1a97dccd",
   "metadata": {},
   "outputs": [
    {
     "data": {
      "text/html": [
       "<div>\n",
       "<style scoped>\n",
       "    .dataframe tbody tr th:only-of-type {\n",
       "        vertical-align: middle;\n",
       "    }\n",
       "\n",
       "    .dataframe tbody tr th {\n",
       "        vertical-align: top;\n",
       "    }\n",
       "\n",
       "    .dataframe thead th {\n",
       "        text-align: right;\n",
       "    }\n",
       "</style>\n",
       "<table border=\"1\" class=\"dataframe\">\n",
       "  <thead>\n",
       "    <tr style=\"text-align: right;\">\n",
       "      <th></th>\n",
       "      <th>State</th>\n",
       "      <th>Year</th>\n",
       "      <th>Quater</th>\n",
       "      <th>Pincodes</th>\n",
       "      <th>Reg_Users</th>\n",
       "    </tr>\n",
       "  </thead>\n",
       "  <tbody>\n",
       "    <tr>\n",
       "      <th>0</th>\n",
       "      <td>andaman-&amp;-nicobar-islands</td>\n",
       "      <td>2018</td>\n",
       "      <td>1</td>\n",
       "      <td>744103</td>\n",
       "      <td>1608</td>\n",
       "    </tr>\n",
       "    <tr>\n",
       "      <th>1</th>\n",
       "      <td>andaman-&amp;-nicobar-islands</td>\n",
       "      <td>2018</td>\n",
       "      <td>1</td>\n",
       "      <td>744101</td>\n",
       "      <td>1108</td>\n",
       "    </tr>\n",
       "  </tbody>\n",
       "</table>\n",
       "</div>"
      ],
      "text/plain": [
       "                       State  Year  Quater Pincodes  Reg_Users\n",
       "0  andaman-&-nicobar-islands  2018       1   744103       1608\n",
       "1  andaman-&-nicobar-islands  2018       1   744101       1108"
      ]
     },
     "execution_count": 108,
     "metadata": {},
     "output_type": "execute_result"
    }
   ],
   "source": [
    "Top_User.head(2)"
   ]
  },
  {
   "cell_type": "code",
   "execution_count": 110,
   "id": "9fff3ff6",
   "metadata": {},
   "outputs": [],
   "source": [
    "#create Table T6/Top_User\n",
    "mycursor.execute(\"create table Top_User (State varchar(100), Year int, Quater int, Pincodes int, Reg_Users int)\")\n",
    "for i, rows in Top_User.iterrows():\n",
    "    sql = \"INSERT INTO Top_User VALUES(%s,%s,%s,%s,%s)\"\n",
    "    mycursor.execute(sql,tuple(rows))\n",
    "    mydb.commit()"
   ]
  },
  {
   "cell_type": "code",
   "execution_count": 111,
   "id": "2c18eb7d",
   "metadata": {},
   "outputs": [
    {
     "data": {
      "text/plain": [
       "(('agg_trans',),\n",
       " ('agg_user',),\n",
       " ('map_trans',),\n",
       " ('map_user',),\n",
       " ('top_trans',),\n",
       " ('top_user',))"
      ]
     },
     "execution_count": 111,
     "metadata": {},
     "output_type": "execute_result"
    }
   ],
   "source": [
    "mycursor.execute(\"show tables\")\n",
    "mycursor.fetchall()"
   ]
  }
 ],
 "metadata": {
  "kernelspec": {
   "display_name": "Python 3 (ipykernel)",
   "language": "python",
   "name": "python3"
  },
  "language_info": {
   "codemirror_mode": {
    "name": "ipython",
    "version": 3
   },
   "file_extension": ".py",
   "mimetype": "text/x-python",
   "name": "python",
   "nbconvert_exporter": "python",
   "pygments_lexer": "ipython3",
   "version": "3.11.4"
  }
 },
 "nbformat": 4,
 "nbformat_minor": 5
}
